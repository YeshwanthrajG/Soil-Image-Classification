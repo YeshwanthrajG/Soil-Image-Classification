{
 "cells": [
  {
   "cell_type": "markdown",
   "id": "78e8f015",
   "metadata": {},
   "source": [
    "# Contributor Details\n",
    "* Author Name : Yeshwanthraj G\n",
    "* Team Name : The Unknown\n",
    "* Leaderboard Rank : 155 (Kaggle Challenge)"
   ]
  },
  {
   "cell_type": "markdown",
   "id": "0a48416a",
   "metadata": {
    "papermill": {
     "duration": 0.006348,
     "end_time": "2025-05-25T10:32:01.154728",
     "exception": false,
     "start_time": "2025-05-25T10:32:01.148380",
     "status": "completed"
    },
    "tags": []
   },
   "source": [
    "# Soil Classification\n",
    "This notebook walks through training a convolutional neural network on soil image data using TensorFlow/Keras. The dataset is provided via the Kaggle competition: *Soil Classification 2025.*"
   ]
  },
  {
   "cell_type": "markdown",
   "id": "11107792",
   "metadata": {
    "papermill": {
     "duration": 0.003732,
     "end_time": "2025-05-25T10:32:01.162817",
     "exception": false,
     "start_time": "2025-05-25T10:32:01.159085",
     "status": "completed"
    },
    "tags": []
   },
   "source": [
    "# 1. Setup & Imports\n",
    "We suppress logs, import required libraries for data handling, machine learning, deep learning, and visualization."
   ]
  },
  {
   "cell_type": "code",
   "execution_count": 1,
   "id": "8984f8d7",
   "metadata": {
    "execution": {
     "iopub.execute_input": "2025-05-25T10:32:01.173422Z",
     "iopub.status.busy": "2025-05-25T10:32:01.172491Z",
     "iopub.status.idle": "2025-05-25T10:32:22.535757Z",
     "shell.execute_reply": "2025-05-25T10:32:22.534825Z"
    },
    "papermill": {
     "duration": 21.370473,
     "end_time": "2025-05-25T10:32:22.537430",
     "exception": false,
     "start_time": "2025-05-25T10:32:01.166957",
     "status": "completed"
    },
    "tags": []
   },
   "outputs": [
    {
     "name": "stderr",
     "output_type": "stream",
     "text": [
      "2025-05-25 10:32:06.942091: E external/local_xla/xla/stream_executor/cuda/cuda_fft.cc:477] Unable to register cuFFT factory: Attempting to register factory for plugin cuFFT when one has already been registered\n",
      "WARNING: All log messages before absl::InitializeLog() is called are written to STDERR\n",
      "E0000 00:00:1748169127.217045      13 cuda_dnn.cc:8310] Unable to register cuDNN factory: Attempting to register factory for plugin cuDNN when one has already been registered\n",
      "E0000 00:00:1748169127.293015      13 cuda_blas.cc:1418] Unable to register cuBLAS factory: Attempting to register factory for plugin cuBLAS when one has already been registered\n"
     ]
    }
   ],
   "source": [
    "import os\n",
    "os.environ['TF_CPP_MIN_LOG_LEVEL'] = '2'  # Suppress TensorFlow warnings\n",
    "\n",
    "# General-purpose libraries\n",
    "import numpy as np\n",
    "import pandas as pd\n",
    "import matplotlib.pyplot as plt\n",
    "\n",
    "# Scikit-learn for data splitting and metrics\n",
    "from sklearn.model_selection import train_test_split\n",
    "from sklearn.metrics import classification_report, f1_score\n",
    "\n",
    "# TensorFlow and Keras\n",
    "import tensorflow as tf\n",
    "from tensorflow.keras import layers, models\n",
    "from tensorflow.keras.preprocessing.image import ImageDataGenerator\n",
    "from tensorflow.keras.applications import ResNet50\n",
    "from tensorflow.keras.optimizers import Adam\n",
    "from tensorflow.keras.callbacks import EarlyStopping, ModelCheckpoint"
   ]
  },
  {
   "cell_type": "markdown",
   "id": "438a8e46",
   "metadata": {
    "papermill": {
     "duration": 0.003746,
     "end_time": "2025-05-25T10:32:22.545519",
     "exception": false,
     "start_time": "2025-05-25T10:32:22.541773",
     "status": "completed"
    },
    "tags": []
   },
   "source": [
    "# 2. Locate Dataset\n",
    "This cell automatically detects the dataset path within the /kaggle/input directory."
   ]
  },
  {
   "cell_type": "code",
   "execution_count": 2,
   "id": "df852f79",
   "metadata": {
    "execution": {
     "iopub.execute_input": "2025-05-25T10:32:22.555475Z",
     "iopub.status.busy": "2025-05-25T10:32:22.554429Z",
     "iopub.status.idle": "2025-05-25T10:32:22.565467Z",
     "shell.execute_reply": "2025-05-25T10:32:22.564476Z"
    },
    "papermill": {
     "duration": 0.017678,
     "end_time": "2025-05-25T10:32:22.567177",
     "exception": false,
     "start_time": "2025-05-25T10:32:22.549499",
     "status": "completed"
    },
    "tags": []
   },
   "outputs": [],
   "source": [
    "for dirname, _, filenames in os.walk('/kaggle/input'):\n",
    "    if 'train_labels.csv' in filenames:\n",
    "        dataset_path = dirname\n",
    "        break\n",
    "\n",
    "train_dir = os.path.join(dataset_path, 'train')\n",
    "test_dir = os.path.join(dataset_path, 'test')\n",
    "train_labels_path = os.path.join(dataset_path, 'train_labels.csv')\n",
    "test_ids_path = os.path.join(dataset_path, 'test_ids.csv')"
   ]
  },
  {
   "cell_type": "markdown",
   "id": "0fbc2039",
   "metadata": {
    "papermill": {
     "duration": 0.003733,
     "end_time": "2025-05-25T10:32:22.575135",
     "exception": false,
     "start_time": "2025-05-25T10:32:22.571402",
     "status": "completed"
    },
    "tags": []
   },
   "source": [
    "# 3. Load and Filter Labels\n",
    "Loads CSV files, processes the soil_type column as a category, and filters image files to include only valid formats."
   ]
  },
  {
   "cell_type": "code",
   "execution_count": 3,
   "id": "75afc72c",
   "metadata": {
    "execution": {
     "iopub.execute_input": "2025-05-25T10:32:22.584891Z",
     "iopub.status.busy": "2025-05-25T10:32:22.584053Z",
     "iopub.status.idle": "2025-05-25T10:32:22.646642Z",
     "shell.execute_reply": "2025-05-25T10:32:22.645679Z"
    },
    "papermill": {
     "duration": 0.06917,
     "end_time": "2025-05-25T10:32:22.648340",
     "exception": false,
     "start_time": "2025-05-25T10:32:22.579170",
     "status": "completed"
    },
    "tags": []
   },
   "outputs": [],
   "source": [
    "# === Load and filter training labels ===\n",
    "labels_df = pd.read_csv(train_labels_path)\n",
    "labels_df['soil_type'] = labels_df['soil_type'].astype('category')\n",
    "labels_df['filename'] = labels_df['image_id']  # Required for Keras\n",
    "\n",
    "# Filter for valid image files in train directory\n",
    "valid_extensions = {'.jpg', '.jpeg', '.png'}\n",
    "valid_images = {\n",
    "    f for f in os.listdir(train_dir)\n",
    "    if os.path.splitext(f)[1].lower() in valid_extensions\n",
    "}\n",
    "\n",
    "# Ensure only those labels with matching image files are used\n",
    "labels_df = labels_df[labels_df['image_id'].isin(valid_images)].reset_index(drop=True)\n",
    "\n",
    "# === Split into train/validation sets ===\n",
    "train_df, val_df = train_test_split(\n",
    "    labels_df,\n",
    "    test_size=0.2,\n",
    "    stratify=labels_df['soil_type'],\n",
    "    random_state=42\n",
    ")\n",
    "\n",
    "# === List of class names ===\n",
    "class_names = labels_df['soil_type'].cat.categories.tolist()"
   ]
  },
  {
   "cell_type": "markdown",
   "id": "8187dce3",
   "metadata": {
    "papermill": {
     "duration": 0.003762,
     "end_time": "2025-05-25T10:32:22.656185",
     "exception": false,
     "start_time": "2025-05-25T10:32:22.652423",
     "status": "completed"
    },
    "tags": []
   },
   "source": [
    "# 4. Image Preprocessing and Generators\n",
    "We define data augmentation for the training set and simple rescaling for validation. These generators feed data to the model during training."
   ]
  },
  {
   "cell_type": "code",
   "execution_count": 4,
   "id": "552964a6",
   "metadata": {
    "execution": {
     "iopub.execute_input": "2025-05-25T10:32:22.665454Z",
     "iopub.status.busy": "2025-05-25T10:32:22.665135Z",
     "iopub.status.idle": "2025-05-25T10:32:24.325918Z",
     "shell.execute_reply": "2025-05-25T10:32:24.324420Z"
    },
    "papermill": {
     "duration": 1.668119,
     "end_time": "2025-05-25T10:32:24.328291",
     "exception": false,
     "start_time": "2025-05-25T10:32:22.660172",
     "status": "completed"
    },
    "tags": []
   },
   "outputs": [
    {
     "name": "stdout",
     "output_type": "stream",
     "text": [
      "Found 971 validated image filenames belonging to 4 classes.\n",
      "Found 243 validated image filenames belonging to 4 classes.\n"
     ]
    }
   ],
   "source": [
    "train_datagen = ImageDataGenerator(\n",
    "    rescale=1./255,\n",
    "    rotation_range=15,\n",
    "    width_shift_range=0.1,\n",
    "    height_shift_range=0.1,\n",
    "    zoom_range=0.1,\n",
    "    horizontal_flip=True\n",
    ")\n",
    "\n",
    "val_datagen = ImageDataGenerator(rescale=1./255)\n",
    "\n",
    "train_generator = train_datagen.flow_from_dataframe(\n",
    "    dataframe=train_df,\n",
    "    directory=train_dir,\n",
    "    x_col='filename',\n",
    "    y_col='soil_type',\n",
    "    target_size=(224, 224),\n",
    "    batch_size=32,\n",
    "    class_mode='categorical'\n",
    ")\n",
    "\n",
    "val_generator = val_datagen.flow_from_dataframe(\n",
    "    dataframe=val_df,\n",
    "    directory=train_dir,\n",
    "    x_col='filename',\n",
    "    y_col='soil_type',\n",
    "    target_size=(224, 224),\n",
    "    batch_size=32,\n",
    "    class_mode='categorical',\n",
    "    shuffle=False\n",
    ")"
   ]
  },
  {
   "cell_type": "markdown",
   "id": "8d90f5af",
   "metadata": {
    "papermill": {
     "duration": 0.004064,
     "end_time": "2025-05-25T10:32:24.340004",
     "exception": false,
     "start_time": "2025-05-25T10:32:24.335940",
     "status": "completed"
    },
    "tags": []
   },
   "source": [
    "# 5. Build the ResNet50 Model\n",
    "We use a ResNet50 base (no pretrained weights due to no internet). We add a few custom layers on top for classification."
   ]
  },
  {
   "cell_type": "code",
   "execution_count": 5,
   "id": "edc45aff",
   "metadata": {
    "execution": {
     "iopub.execute_input": "2025-05-25T10:32:24.355850Z",
     "iopub.status.busy": "2025-05-25T10:32:24.355391Z",
     "iopub.status.idle": "2025-05-25T10:32:25.690772Z",
     "shell.execute_reply": "2025-05-25T10:32:25.689727Z"
    },
    "papermill": {
     "duration": 1.346,
     "end_time": "2025-05-25T10:32:25.692461",
     "exception": false,
     "start_time": "2025-05-25T10:32:24.346461",
     "status": "completed"
    },
    "tags": []
   },
   "outputs": [
    {
     "name": "stderr",
     "output_type": "stream",
     "text": [
      "2025-05-25 10:32:24.369045: E external/local_xla/xla/stream_executor/cuda/cuda_driver.cc:152] failed call to cuInit: INTERNAL: CUDA error: Failed call to cuInit: UNKNOWN ERROR (303)\n"
     ]
    }
   ],
   "source": [
    "base_model = ResNet50(include_top=False, weights=None, input_shape=(224, 224, 3))  # No internet -> No pretrained weights\n",
    "model = models.Sequential([\n",
    "    base_model,\n",
    "    layers.GlobalAveragePooling2D(),\n",
    "    layers.Dense(256, activation='relu'),\n",
    "    layers.Dropout(0.4),\n",
    "    layers.Dense(4, activation='softmax')\n",
    "])\n",
    "\n",
    "model.compile(optimizer=Adam(1e-4), loss='categorical_crossentropy', metrics=['accuracy'])"
   ]
  },
  {
   "cell_type": "markdown",
   "id": "94dd2c6d",
   "metadata": {
    "papermill": {
     "duration": 0.003919,
     "end_time": "2025-05-25T10:32:25.700740",
     "exception": false,
     "start_time": "2025-05-25T10:32:25.696821",
     "status": "completed"
    },
    "tags": []
   },
   "source": [
    "# 6. Set Up Callbacks\n",
    "We use ModelCheckpoint to save the best model and EarlyStopping to avoid overfitting."
   ]
  },
  {
   "cell_type": "code",
   "execution_count": 6,
   "id": "0da02834",
   "metadata": {
    "execution": {
     "iopub.execute_input": "2025-05-25T10:32:25.710435Z",
     "iopub.status.busy": "2025-05-25T10:32:25.710024Z",
     "iopub.status.idle": "2025-05-25T10:32:25.715643Z",
     "shell.execute_reply": "2025-05-25T10:32:25.714786Z"
    },
    "papermill": {
     "duration": 0.012414,
     "end_time": "2025-05-25T10:32:25.717257",
     "exception": false,
     "start_time": "2025-05-25T10:32:25.704843",
     "status": "completed"
    },
    "tags": []
   },
   "outputs": [],
   "source": [
    "checkpoint = ModelCheckpoint('best_model.h5', monitor='val_loss', save_best_only=True, verbose=1)\n",
    "early_stop = EarlyStopping(monitor='val_loss', patience=5, restore_best_weights=True)"
   ]
  },
  {
   "cell_type": "markdown",
   "id": "fcfbcd13",
   "metadata": {
    "papermill": {
     "duration": 0.003911,
     "end_time": "2025-05-25T10:32:25.726152",
     "exception": false,
     "start_time": "2025-05-25T10:32:25.722241",
     "status": "completed"
    },
    "tags": []
   },
   "source": [
    "# 7. Train the Model (Epochs = 5)\n",
    "Train the model using training and validation generators for 5 epochs to reduce time while maintaining good accuracy."
   ]
  },
  {
   "cell_type": "code",
   "execution_count": 7,
   "id": "b13c9e47",
   "metadata": {
    "execution": {
     "iopub.execute_input": "2025-05-25T10:32:25.736217Z",
     "iopub.status.busy": "2025-05-25T10:32:25.735811Z",
     "iopub.status.idle": "2025-05-25T11:09:40.143057Z",
     "shell.execute_reply": "2025-05-25T11:09:40.141939Z"
    },
    "papermill": {
     "duration": 2234.414529,
     "end_time": "2025-05-25T11:09:40.144933",
     "exception": false,
     "start_time": "2025-05-25T10:32:25.730404",
     "status": "completed"
    },
    "tags": []
   },
   "outputs": [
    {
     "name": "stderr",
     "output_type": "stream",
     "text": [
      "/usr/local/lib/python3.11/dist-packages/keras/src/trainers/data_adapters/py_dataset_adapter.py:121: UserWarning: Your `PyDataset` class should call `super().__init__(**kwargs)` in its constructor. `**kwargs` can include `workers`, `use_multiprocessing`, `max_queue_size`. Do not pass these arguments to `fit()`, as they will be ignored.\n",
      "  self._warn_if_super_not_called()\n"
     ]
    },
    {
     "name": "stdout",
     "output_type": "stream",
     "text": [
      "Epoch 1/5\n",
      "\u001b[1m31/31\u001b[0m \u001b[32m━━━━━━━━━━━━━━━━━━━━\u001b[0m\u001b[37m\u001b[0m \u001b[1m0s\u001b[0m 13s/step - accuracy: 0.5048 - loss: 1.4214 \n",
      "Epoch 1: val_loss improved from inf to 1.34973, saving model to best_model.h5\n",
      "\u001b[1m31/31\u001b[0m \u001b[32m━━━━━━━━━━━━━━━━━━━━\u001b[0m\u001b[37m\u001b[0m \u001b[1m502s\u001b[0m 14s/step - accuracy: 0.5084 - loss: 1.4142 - val_accuracy: 0.4321 - val_loss: 1.3497\n",
      "Epoch 2/5\n",
      "\u001b[1m31/31\u001b[0m \u001b[32m━━━━━━━━━━━━━━━━━━━━\u001b[0m\u001b[37m\u001b[0m \u001b[1m0s\u001b[0m 13s/step - accuracy: 0.7790 - loss: 0.6375 \n",
      "Epoch 2: val_loss did not improve from 1.34973\n",
      "\u001b[1m31/31\u001b[0m \u001b[32m━━━━━━━━━━━━━━━━━━━━\u001b[0m\u001b[37m\u001b[0m \u001b[1m427s\u001b[0m 14s/step - accuracy: 0.7789 - loss: 0.6371 - val_accuracy: 0.4321 - val_loss: 1.5175\n",
      "Epoch 3/5\n",
      "\u001b[1m31/31\u001b[0m \u001b[32m━━━━━━━━━━━━━━━━━━━━\u001b[0m\u001b[37m\u001b[0m \u001b[1m0s\u001b[0m 13s/step - accuracy: 0.8160 - loss: 0.5053 \n",
      "Epoch 3: val_loss did not improve from 1.34973\n",
      "\u001b[1m31/31\u001b[0m \u001b[32m━━━━━━━━━━━━━━━━━━━━\u001b[0m\u001b[37m\u001b[0m \u001b[1m441s\u001b[0m 14s/step - accuracy: 0.8160 - loss: 0.5048 - val_accuracy: 0.4321 - val_loss: 2.1705\n",
      "Epoch 4/5\n",
      "\u001b[1m31/31\u001b[0m \u001b[32m━━━━━━━━━━━━━━━━━━━━\u001b[0m\u001b[37m\u001b[0m \u001b[1m0s\u001b[0m 13s/step - accuracy: 0.8310 - loss: 0.4516 \n",
      "Epoch 4: val_loss did not improve from 1.34973\n",
      "\u001b[1m31/31\u001b[0m \u001b[32m━━━━━━━━━━━━━━━━━━━━\u001b[0m\u001b[37m\u001b[0m \u001b[1m438s\u001b[0m 14s/step - accuracy: 0.8310 - loss: 0.4514 - val_accuracy: 0.4321 - val_loss: 3.3305\n",
      "Epoch 5/5\n",
      "\u001b[1m31/31\u001b[0m \u001b[32m━━━━━━━━━━━━━━━━━━━━\u001b[0m\u001b[37m\u001b[0m \u001b[1m0s\u001b[0m 13s/step - accuracy: 0.8188 - loss: 0.4255 \n",
      "Epoch 5: val_loss did not improve from 1.34973\n",
      "\u001b[1m31/31\u001b[0m \u001b[32m━━━━━━━━━━━━━━━━━━━━\u001b[0m\u001b[37m\u001b[0m \u001b[1m424s\u001b[0m 14s/step - accuracy: 0.8183 - loss: 0.4264 - val_accuracy: 0.4321 - val_loss: 3.6372\n"
     ]
    }
   ],
   "source": [
    "history = model.fit(\n",
    "    train_generator,\n",
    "    validation_data=val_generator,\n",
    "    epochs=5,\n",
    "    callbacks=[checkpoint, early_stop]\n",
    ")"
   ]
  },
  {
   "cell_type": "markdown",
   "id": "6cae9d11",
   "metadata": {
    "papermill": {
     "duration": 0.01227,
     "end_time": "2025-05-25T11:09:40.170093",
     "exception": false,
     "start_time": "2025-05-25T11:09:40.157823",
     "status": "completed"
    },
    "tags": []
   },
   "source": [
    "# 8. Evaluate on Validation Set\n",
    "Generate predictions on validation data and calculate F1 scores for each class."
   ]
  },
  {
   "cell_type": "code",
   "execution_count": 8,
   "id": "f836819a",
   "metadata": {
    "execution": {
     "iopub.execute_input": "2025-05-25T11:09:40.197458Z",
     "iopub.status.busy": "2025-05-25T11:09:40.197148Z",
     "iopub.status.idle": "2025-05-25T11:10:09.559906Z",
     "shell.execute_reply": "2025-05-25T11:10:09.558759Z"
    },
    "papermill": {
     "duration": 29.378296,
     "end_time": "2025-05-25T11:10:09.561266",
     "exception": false,
     "start_time": "2025-05-25T11:09:40.182970",
     "status": "completed"
    },
    "tags": []
   },
   "outputs": [
    {
     "name": "stdout",
     "output_type": "stream",
     "text": [
      "\u001b[1m8/8\u001b[0m \u001b[32m━━━━━━━━━━━━━━━━━━━━\u001b[0m\u001b[37m\u001b[0m \u001b[1m29s\u001b[0m 3s/step\n",
      "\n",
      "F1 scores per class:\n",
      "Alluvial soil: 0.6034\n",
      "Black Soil: 0.0000\n",
      "Clay soil: 0.0000\n",
      "Red soil: 0.0000\n",
      "\n",
      "✅ Minimum F1-score (competition metric): 0.0000\n"
     ]
    },
    {
     "name": "stderr",
     "output_type": "stream",
     "text": [
      "/usr/local/lib/python3.11/dist-packages/sklearn/metrics/_classification.py:1344: UndefinedMetricWarning: Precision and F-score are ill-defined and being set to 0.0 in labels with no predicted samples. Use `zero_division` parameter to control this behavior.\n",
      "  _warn_prf(average, modifier, msg_start, len(result))\n",
      "/usr/local/lib/python3.11/dist-packages/sklearn/metrics/_classification.py:1344: UndefinedMetricWarning: Precision and F-score are ill-defined and being set to 0.0 in labels with no predicted samples. Use `zero_division` parameter to control this behavior.\n",
      "  _warn_prf(average, modifier, msg_start, len(result))\n",
      "/usr/local/lib/python3.11/dist-packages/sklearn/metrics/_classification.py:1344: UndefinedMetricWarning: Precision and F-score are ill-defined and being set to 0.0 in labels with no predicted samples. Use `zero_division` parameter to control this behavior.\n",
      "  _warn_prf(average, modifier, msg_start, len(result))\n"
     ]
    }
   ],
   "source": [
    "val_preds = model.predict(val_generator)\n",
    "val_preds_classes = np.argmax(val_preds, axis=1)\n",
    "val_true_classes = val_df['soil_type'].astype('category').cat.codes.values\n",
    "\n",
    "report = classification_report(val_true_classes, val_preds_classes, target_names=class_names, output_dict=True)\n",
    "f1s = [report[c]['f1-score'] for c in class_names]\n",
    "\n",
    "print(\"\\nF1 scores per class:\")\n",
    "for c, f in zip(class_names, f1s):\n",
    "    print(f\"{c}: {f:.4f}\")\n",
    "print(f\"\\n✅ Minimum F1-score (competition metric): {min(f1s):.4f}\")"
   ]
  },
  {
   "cell_type": "markdown",
   "id": "738e4c70",
   "metadata": {
    "papermill": {
     "duration": 0.012477,
     "end_time": "2025-05-25T11:10:09.586521",
     "exception": false,
     "start_time": "2025-05-25T11:10:09.574044",
     "status": "completed"
    },
    "tags": []
   },
   "source": [
    "# 9. Plot Accuracy\n",
    "Visualize how training and validation accuracy evolved during training."
   ]
  },
  {
   "cell_type": "code",
   "execution_count": 9,
   "id": "c21483f3",
   "metadata": {
    "execution": {
     "iopub.execute_input": "2025-05-25T11:10:09.613065Z",
     "iopub.status.busy": "2025-05-25T11:10:09.612763Z",
     "iopub.status.idle": "2025-05-25T11:10:09.852137Z",
     "shell.execute_reply": "2025-05-25T11:10:09.851223Z"
    },
    "papermill": {
     "duration": 0.254597,
     "end_time": "2025-05-25T11:10:09.853716",
     "exception": false,
     "start_time": "2025-05-25T11:10:09.599119",
     "status": "completed"
    },
    "tags": []
   },
   "outputs": [
    {
     "data": {
      "image/png": "[encoded data removed]",
      "text/plain": [
       "<Figure size 640x480 with 1 Axes>"
      ]
     },
     "metadata": {},
     "output_type": "display_data"
    }
   ],
   "source": [
    "plt.plot(history.history['accuracy'], label='Train')\n",
    "plt.plot(history.history['val_accuracy'], label='Validation')\n",
    "plt.title('Model Accuracy')\n",
    "plt.xlabel('Epoch')\n",
    "plt.ylabel('Accuracy')\n",
    "plt.legend()\n",
    "plt.grid()\n",
    "plt.show()"
   ]
  },
  {
   "cell_type": "markdown",
   "id": "584045ae",
   "metadata": {
    "papermill": {
     "duration": 0.01374,
     "end_time": "2025-05-25T11:10:09.881226",
     "exception": false,
     "start_time": "2025-05-25T11:10:09.867486",
     "status": "completed"
    },
    "tags": []
   },
   "source": [
    "# 10. Predict on Test Set\n",
    "Prepare the test images and use the trained model to predict their classes."
   ]
  },
  {
   "cell_type": "code",
   "execution_count": 10,
   "id": "ff012791",
   "metadata": {
    "execution": {
     "iopub.execute_input": "2025-05-25T11:10:09.910478Z",
     "iopub.status.busy": "2025-05-25T11:10:09.909488Z",
     "iopub.status.idle": "2025-05-25T11:10:51.913540Z",
     "shell.execute_reply": "2025-05-25T11:10:51.912583Z"
    },
    "papermill": {
     "duration": 42.020575,
     "end_time": "2025-05-25T11:10:51.915480",
     "exception": false,
     "start_time": "2025-05-25T11:10:09.894905",
     "status": "completed"
    },
    "tags": []
   },
   "outputs": [
    {
     "name": "stdout",
     "output_type": "stream",
     "text": [
      "Found 339 validated image filenames.\n"
     ]
    },
    {
     "name": "stderr",
     "output_type": "stream",
     "text": [
      "/usr/local/lib/python3.11/dist-packages/keras/src/legacy/preprocessing/image.py:920: UserWarning: Found 2 invalid image filename(s) in x_col=\"filename\". These filename(s) will be ignored.\n",
      "  warnings.warn(\n",
      "/usr/local/lib/python3.11/dist-packages/keras/src/trainers/data_adapters/py_dataset_adapter.py:121: UserWarning: Your `PyDataset` class should call `super().__init__(**kwargs)` in its constructor. `**kwargs` can include `workers`, `use_multiprocessing`, `max_queue_size`. Do not pass these arguments to `fit()`, as they will be ignored.\n",
      "  self._warn_if_super_not_called()\n"
     ]
    },
    {
     "name": "stdout",
     "output_type": "stream",
     "text": [
      "\u001b[1m11/11\u001b[0m \u001b[32m━━━━━━━━━━━━━━━━━━━━\u001b[0m\u001b[37m\u001b[0m \u001b[1m36s\u001b[0m 3s/step\n"
     ]
    }
   ],
   "source": [
    "test_ids = pd.read_csv(test_ids_path)\n",
    "test_ids['filename'] = test_ids['image_id']\n",
    "test_ids = test_ids[test_ids['image_id'].isin(os.listdir(test_dir))]\n",
    "\n",
    "test_datagen = ImageDataGenerator(rescale=1./255)\n",
    "test_generator = test_datagen.flow_from_dataframe(\n",
    "    dataframe=test_ids,\n",
    "    directory=test_dir,\n",
    "    x_col='filename',\n",
    "    y_col=None,\n",
    "    target_size=(224, 224),\n",
    "    batch_size=32,\n",
    "    class_mode=None,\n",
    "    shuffle=False\n",
    ")\n",
    "\n",
    "test_preds = model.predict(test_generator)\n",
    "test_pred_labels = np.argmax(test_preds, axis=1)\n",
    "predicted_labels = [class_names[i] for i in test_pred_labels]"
   ]
  },
  {
   "cell_type": "markdown",
   "id": "68efd0cf",
   "metadata": {
    "papermill": {
     "duration": 0.014075,
     "end_time": "2025-05-25T11:10:51.943982",
     "exception": false,
     "start_time": "2025-05-25T11:10:51.929907",
     "status": "completed"
    },
    "tags": []
   },
   "source": [
    "# 11. Save Submission\n",
    "Save predicted labels to submission.csv in the required format for Kaggle submission."
   ]
  },
  {
   "cell_type": "code",
   "execution_count": 11,
   "id": "84b1dfde",
   "metadata": {
    "execution": {
     "iopub.execute_input": "2025-05-25T11:10:51.974163Z",
     "iopub.status.busy": "2025-05-25T11:10:51.973823Z",
     "iopub.status.idle": "2025-05-25T11:10:51.988736Z",
     "shell.execute_reply": "2025-05-25T11:10:51.987661Z"
    },
    "papermill": {
     "duration": 0.031708,
     "end_time": "2025-05-25T11:10:51.990278",
     "exception": false,
     "start_time": "2025-05-25T11:10:51.958570",
     "status": "completed"
    },
    "tags": []
   },
   "outputs": [
    {
     "name": "stdout",
     "output_type": "stream",
     "text": [
      "✅ Submission saved to /kaggle/working/submission.csv\n"
     ]
    }
   ],
   "source": [
    "# Filter test_ids to only include images that were successfully used by the generator\n",
    "valid_filenames = test_generator.filenames  # These are actually used images (339)\n",
    "test_ids_filtered = test_ids[test_ids['filename'].isin(valid_filenames)].reset_index(drop=True)\n",
    "\n",
    "# Create submission using filtered image IDs\n",
    "submission = pd.DataFrame({\n",
    "    'image_id': test_ids_filtered['image_id'],\n",
    "    'soil_type': predicted_labels\n",
    "})\n",
    "submission.to_csv('/kaggle/working/submission.csv', index=False)\n",
    "print(\"✅ Submission saved to /kaggle/working/submission.csv\")"
   ]
  },
  {
   "cell_type": "markdown",
   "id": "0a924a38",
   "metadata": {
    "papermill": {
     "duration": 0.013961,
     "end_time": "2025-05-25T11:10:52.018928",
     "exception": false,
     "start_time": "2025-05-25T11:10:52.004967",
     "status": "completed"
    },
    "tags": []
   },
   "source": [
    "# Prediction Analysis"
   ]
  },
  {
   "cell_type": "code",
   "execution_count": 12,
   "id": "278c3df1",
   "metadata": {
    "execution": {
     "iopub.execute_input": "2025-05-25T11:10:52.049396Z",
     "iopub.status.busy": "2025-05-25T11:10:52.049028Z",
     "iopub.status.idle": "2025-05-25T11:11:28.940024Z",
     "shell.execute_reply": "2025-05-25T11:11:28.939121Z"
    },
    "papermill": {
     "duration": 36.922482,
     "end_time": "2025-05-25T11:11:28.955589",
     "exception": false,
     "start_time": "2025-05-25T11:10:52.033107",
     "status": "completed"
    },
    "tags": []
   },
   "outputs": [
    {
     "name": "stdout",
     "output_type": "stream",
     "text": [
      "✅ submission.csv generated with 341 rows (including fallbacks).\n"
     ]
    }
   ],
   "source": [
    "import cv2\n",
    "from tensorflow.keras.preprocessing.image import img_to_array\n",
    "from tensorflow.keras.applications.resnet50 import preprocess_input\n",
    "import warnings\n",
    "\n",
    "# Load test IDs\n",
    "test_ids_df = pd.read_csv(test_ids_path)\n",
    "\n",
    "# Set default class (adjust based on your most common class if needed)\n",
    "default_class_index = 0  # Example: \"Black Soil\"\n",
    "class_labels = class_names  # already defined earlier\n",
    "\n",
    "def load_and_preprocess_image(filepath):\n",
    "    try:\n",
    "        image = cv2.imread(filepath)\n",
    "        if image is None:\n",
    "            raise ValueError(\"Image not found or unreadable.\")\n",
    "        image = cv2.resize(image, (224, 224))\n",
    "        image = img_to_array(image)\n",
    "        image = preprocess_input(image)\n",
    "        return image\n",
    "    except Exception as e:\n",
    "        warnings.warn(str(e))\n",
    "        return None\n",
    "\n",
    "X_test = []\n",
    "valid_indices = []\n",
    "fallback_indices = []\n",
    "\n",
    "for i, img_id in enumerate(test_ids_df['image_id']):\n",
    "    img_path = os.path.join(test_dir, img_id)\n",
    "    img_array = load_and_preprocess_image(img_path)\n",
    "    if img_array is not None:\n",
    "        X_test.append(img_array)\n",
    "        valid_indices.append(i)\n",
    "    else:\n",
    "        fallback_indices.append(i)\n",
    "\n",
    "X_test = np.array(X_test)\n",
    "\n",
    "# Predict only on valid images\n",
    "y_pred_probs = model.predict(X_test, verbose=0)\n",
    "y_pred_classes = np.argmax(y_pred_probs, axis=1)\n",
    "\n",
    "# Create full prediction list (insert default predictions for missing images)\n",
    "final_predictions = []\n",
    "j = 0\n",
    "for i in range(len(test_ids_df)):\n",
    "    if i in valid_indices:\n",
    "        final_predictions.append(class_labels[y_pred_classes[j]])\n",
    "        j += 1\n",
    "    else:\n",
    "        final_predictions.append(class_labels[default_class_index])\n",
    "\n",
    "# Save corrected submission\n",
    "submission_fixed = pd.DataFrame({\n",
    "    'image_id': test_ids_df['image_id'],\n",
    "    'soil_type': final_predictions\n",
    "})\n",
    "submission_fixed.to_csv('submission.csv', index=False)\n",
    "print(\"✅ submission.csv generated with 341 rows (including fallbacks).\")\n"
   ]
  }
 ],
 "metadata": {
  "kaggle": {
   "accelerator": "none",
   "dataSources": [
    {
     "databundleVersionId": 12375409,
     "sourceId": 102672,
     "sourceType": "competition"
    }
   ],
   "dockerImageVersionId": 31040,
   "isGpuEnabled": false,
   "isInternetEnabled": false,
   "language": "python",
   "sourceType": "notebook"
  },
  "kernelspec": {
   "display_name": "Python 3",
   "language": "python",
   "name": "python3"
  },
  "language_info": {
   "codemirror_mode": {
    "name": "ipython",
    "version": 3
   },
   "file_extension": ".py",
   "mimetype": "text/x-python",
   "name": "python",
   "nbconvert_exporter": "python",
   "pygments_lexer": "ipython3",
   "version": "3.11.11"
  },
  "papermill": {
   "default_parameters": {},
   "duration": 2376.544421,
   "end_time": "2025-05-25T11:11:32.723511",
   "environment_variables": {},
   "exception": null,
   "input_path": "__notebook__.ipynb",
   "output_path": "__notebook__.ipynb",
   "parameters": {},
   "start_time": "2025-05-25T10:31:56.179090",
   "version": "2.6.0"
  }
 },
 "nbformat": 4,
 "nbformat_minor": 5
}
